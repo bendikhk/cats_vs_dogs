{
 "cells": [
  {
   "cell_type": "code",
   "execution_count": 1,
   "metadata": {
    "collapsed": false
   },
   "outputs": [
    {
     "name": "stdout",
     "output_type": "stream",
     "text": [
      "['./data/train/cat.2536.jpg', './data/train/dog.10981.jpg', './data/train/cat.9547.jpg']\n",
      "[0, 1, 0]\n"
     ]
    }
   ],
   "source": [
    "import os\n",
    "import random\n",
    "import tensorflow as tf\n",
    "import numpy as np\n",
    "\n",
    "data_folder = \"./data/train\"\n",
    "\n",
    "images = []\n",
    "labels = []\n",
    "categories = {\"cat\": 0, \"dog\": 1}\n",
    "\n",
    "all_images = os.listdir(data_folder)\n",
    "random.shuffle(all_images)\n",
    "\n",
    "for file in all_images:\n",
    "    if not file.endswith('.jpg'):\n",
    "        continue\n",
    "    image_path = os.path.join(data_folder, file)\n",
    "    label = file.split(\".\")[0]\n",
    "    images.append(image_path)\n",
    "    labels.append(categories[label])\n",
    "    \n",
    "print(images[:3])\n",
    "print(labels[:3])"
   ]
  },
  {
   "cell_type": "code",
   "execution_count": 2,
   "metadata": {
    "collapsed": false
   },
   "outputs": [
    {
     "name": "stdout",
     "output_type": "stream",
     "text": [
      "(5, 2048)\n",
      "[ 0.51140302  0.04878923  0.18899484 ...,  0.0384578   0.26158404\n",
      "  0.22986382]\n"
     ]
    }
   ],
   "source": [
    "#How to use the Inception V3 model\n",
    "some_images = images[:5]\n",
    "with tf.Session() as sess:\n",
    "    inception_model = \"./data/model/inception_v3.pb\"\n",
    "\n",
    "    #Loading inception model from file\n",
    "    with tf.gfile.FastGFile(inception_model, 'rb') as f:\n",
    "        graph_def = tf.GraphDef()\n",
    "        graph_def.ParseFromString(f.read())\n",
    "        _ = tf.import_graph_def(graph_def, name='')\n",
    "\n",
    "    #Find the output layer we are looking for\n",
    "    LAST_LAYER = 'pool_3:0'\n",
    "    tensor = sess.graph.get_tensor_by_name(LAST_LAYER)\n",
    "\n",
    "    #Create features for all our images\n",
    "    features = []\n",
    "    for image in some_images:\n",
    "        image_data = tf.gfile.FastGFile(image, 'rb').read()\n",
    "        feature = sess.run(tensor, {'DecodeJpeg/contents:0': image_data})\n",
    "        features.append(feature.flatten())\n",
    "        \n",
    "features = np.asarray(features)\n",
    "print(features.shape)\n",
    "print(features[0])"
   ]
  },
  {
   "cell_type": "code",
   "execution_count": 3,
   "metadata": {
    "collapsed": false
   },
   "outputs": [
    {
     "name": "stdout",
     "output_type": "stream",
     "text": [
      "dog.11508.jpg\n",
      "(2048,)\n"
     ]
    }
   ],
   "source": [
    "inception_features = \"./data/features_1000.txt\"\n",
    "\n",
    "images = []\n",
    "features = []\n",
    "labels = []\n",
    "with open(inception_features, 'r') as f:   \n",
    "    for line in f.readlines():\n",
    "        values = line.rstrip().split(',')\n",
    "        image = values[0]\n",
    "        np_values = values[1:2049]\n",
    "        \n",
    "        images.append(image)\n",
    "        features.append(np.asarray(np_values).flatten())\n",
    "\n",
    "print(images[0])\n",
    "print(features[0].shape)\n"
   ]
  },
  {
   "cell_type": "code",
   "execution_count": 4,
   "metadata": {
    "collapsed": true
   },
   "outputs": [],
   "source": [
    "training_size = 800\n",
    "test_size = 200\n",
    "total_size = training_size + test_size"
   ]
  },
  {
   "cell_type": "code",
   "execution_count": 5,
   "metadata": {
    "collapsed": false
   },
   "outputs": [
    {
     "name": "stdout",
     "output_type": "stream",
     "text": [
      "dog.11508.jpg\n",
      "1\n"
     ]
    }
   ],
   "source": [
    "labels = []\n",
    "for image in images:\n",
    "    label = image.split(\".\")[0]\n",
    "    labels.append(categories[label])\n",
    "    \n",
    "print(images[0])\n",
    "print(labels[0])"
   ]
  },
  {
   "cell_type": "code",
   "execution_count": 6,
   "metadata": {
    "collapsed": false
   },
   "outputs": [
    {
     "name": "stdout",
     "output_type": "stream",
     "text": [
      "(1000, 2048)\n",
      "(1000, 2)\n"
     ]
    }
   ],
   "source": [
    "X = np.asarray(features)\n",
    "Y = np.zeros([total_size, 2])\n",
    "\n",
    "#one hot encoding\n",
    "for i, label in enumerate(labels):\n",
    "    Y[i][label] = 1\n",
    "    \n",
    "    \n",
    "print(X.shape)\n",
    "print(Y.shape)"
   ]
  },
  {
   "cell_type": "code",
   "execution_count": 7,
   "metadata": {
    "collapsed": true
   },
   "outputs": [],
   "source": [
    "X_train = X[:training_size]\n",
    "Y_train = Y[:training_size]\n",
    "\n",
    "X_test = X[training_size:]\n",
    "Y_test = Y[training_size:]"
   ]
  },
  {
   "cell_type": "code",
   "execution_count": 2,
   "metadata": {
    "collapsed": false
   },
   "outputs": [
    {
     "name": "stdout",
     "output_type": "stream",
     "text": [
      "hdf5 is not supported on this machine (please install/reinstall h5py for optimal experience)\n"
     ]
    },
    {
     "ename": "NameError",
     "evalue": "name 'X_train' is not defined",
     "output_type": "error",
     "traceback": [
      "\u001b[0;31m---------------------------------------------------------------------------\u001b[0m",
      "\u001b[0;31mNameError\u001b[0m                                 Traceback (most recent call last)",
      "\u001b[0;32m<ipython-input-2-a94a4f07170a>\u001b[0m in \u001b[0;36m<module>\u001b[0;34m()\u001b[0m\n\u001b[1;32m     24\u001b[0m \u001b[0;34m\u001b[0m\u001b[0m\n\u001b[1;32m     25\u001b[0m \u001b[0;31m# Train it!\u001b[0m\u001b[0;34m\u001b[0m\u001b[0;34m\u001b[0m\u001b[0m\n\u001b[0;32m---> 26\u001b[0;31m model.fit(X_train, Y_train, n_epoch=10, shuffle=True, validation_set=0.1,\n\u001b[0m\u001b[1;32m     27\u001b[0m           \u001b[0mshow_metric\u001b[0m\u001b[0;34m=\u001b[0m\u001b[0;32mTrue\u001b[0m\u001b[0;34m,\u001b[0m \u001b[0mbatch_size\u001b[0m\u001b[0;34m=\u001b[0m\u001b[0;36m50\u001b[0m\u001b[0;34m,\u001b[0m\u001b[0;34m\u001b[0m\u001b[0m\n\u001b[1;32m     28\u001b[0m           run_id='dog-cat-inc')\n",
      "\u001b[0;31mNameError\u001b[0m: name 'X_train' is not defined"
     ]
    }
   ],
   "source": [
    "import tensorflow as tf\n",
    "tf.reset_default_graph()\n",
    "\n",
    "import tflearn\n",
    "from tflearn.data_utils import shuffle\n",
    "from tflearn.layers.core import input_data, fully_connected\n",
    "from tflearn.layers.estimator import regression\n",
    "\n",
    "network = input_data(shape=[None, 2048])\n",
    "\n",
    "\n",
    "# Fully-connected 512 node neural network\n",
    "network = fully_connected(network, 512, activation='relu')\n",
    "\n",
    "# Fully-connected neural network with two outputs\n",
    "network = fully_connected(network, 2, activation='softmax')\n",
    "\n",
    "network = regression(network, optimizer='adam',\n",
    "                     loss='categorical_crossentropy',\n",
    "                     learning_rate=0.001)\n",
    "\n",
    "# Wrap the network in a model object\n",
    "model = tflearn.DNN(network, tensorboard_verbose=0)\n",
    "\n",
    "# Train it!\n",
    "model.fit(X_train, Y_train, n_epoch=10, shuffle=True, validation_set=0.1,\n",
    "          show_metric=True, batch_size=50,\n",
    "          run_id='dog-cat-inc')\n",
    "\n"
   ]
  },
  {
   "cell_type": "code",
   "execution_count": 9,
   "metadata": {
    "collapsed": false
   },
   "outputs": [
    {
     "name": "stdout",
     "output_type": "stream",
     "text": [
      "99.5%\n"
     ]
    }
   ],
   "source": [
    "predictions = model.predict(X_test)\n",
    "\n",
    "pred_label = np.argmax(predictions, axis=1)\n",
    "real_label = np.argmax(Y_test, axis=1)\n",
    "\n",
    "accuracy = np.sum(pred_label == real_label)/test_size\n",
    "\n",
    "print(\"{}%\".format(accuracy*100))"
   ]
  }
 ],
 "metadata": {
  "kernelspec": {
   "display_name": "Python (ml)",
   "language": "python",
   "name": "ml"
  },
  "language_info": {
   "codemirror_mode": {
    "name": "ipython",
    "version": 3
   },
   "file_extension": ".py",
   "mimetype": "text/x-python",
   "name": "python",
   "nbconvert_exporter": "python",
   "pygments_lexer": "ipython3",
   "version": "3.6.0"
  }
 },
 "nbformat": 4,
 "nbformat_minor": 2
}
