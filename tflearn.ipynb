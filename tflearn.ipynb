{
 "cells": [
  {
   "cell_type": "code",
   "execution_count": null,
   "metadata": {
    "collapsed": false,
    "deletable": true,
    "editable": true
   },
   "outputs": [],
   "source": [
    "import os\n",
    "import random\n",
    "data_folder = \"./data/train\"\n",
    "\n",
    "os.listdir(data_folder)[5:10]"
   ]
  },
  {
   "cell_type": "code",
   "execution_count": null,
   "metadata": {
    "collapsed": false,
    "deletable": true,
    "editable": true
   },
   "outputs": [],
   "source": [
    "images = []\n",
    "labels = []\n",
    "categories = {\"cat\": 0, \"dog\": 1}\n",
    "\n",
    "all_images = os.listdir(data_folder)\n",
    "#shuffle to mix cat and dogs\n",
    "random.shuffle(all_images)\n",
    "\n",
    "for file in all_images:\n",
    "    if not file.endswith('.jpg'):\n",
    "        continue\n",
    "    image_path = os.path.join(data_folder, file)\n",
    "    #cat.1000.jpg\n",
    "    label = file.split(\".\")[0]\n",
    "    labels.append(categories[label])\n",
    "    \n",
    "    images.append(image_path)\n",
    "    \n",
    "    \n",
    "print(images[:3])\n",
    "print(labels[:3])"
   ]
  },
  {
   "cell_type": "code",
   "execution_count": null,
   "metadata": {
    "collapsed": false,
    "deletable": true,
    "editable": true
   },
   "outputs": [],
   "source": [
    "%matplotlib inline\n",
    "import matplotlib.pyplot as plt\n",
    "import matplotlib.image as mpimg\n",
    "display_img = mpimg.imread(images[6])\n",
    "plt.imshow(display_img)"
   ]
  },
  {
   "cell_type": "code",
   "execution_count": null,
   "metadata": {
    "collapsed": true,
    "deletable": true,
    "editable": true
   },
   "outputs": [],
   "source": [
    "import cv2\n",
    "import numpy as np\n",
    "\n",
    "width = 64\n",
    "height = 64\n",
    "\n",
    "#training_size = 5000\n",
    "training_size = 1000\n",
    "test_size = 500\n",
    "total_size = training_size + test_size\n",
    "\n",
    "images = images[:total_size]\n",
    "labels = labels[:total_size]"
   ]
  },
  {
   "cell_type": "code",
   "execution_count": null,
   "metadata": {
    "collapsed": false,
    "deletable": true,
    "editable": true
   },
   "outputs": [],
   "source": [
    "X = np.zeros([total_size, width, height, 3])\n",
    "\n",
    "for i, image in enumerate(images):\n",
    "    img = cv2.imread(image)\n",
    "    resized_img = cv2.resize(img, (width, height))\n",
    "    X[i] = resized_img\n",
    "print(X.shape)\n",
    "\n"
   ]
  },
  {
   "cell_type": "code",
   "execution_count": null,
   "metadata": {
    "collapsed": false,
    "deletable": true,
    "editable": true
   },
   "outputs": [],
   "source": [
    "#one hot encoding\n",
    "# cats: 0 == [1, 0]\n",
    "# dogs: 1 == [0, 1]\n",
    "\n",
    "Y = np.zeros([total_size, 2])\n",
    "\n",
    "for i, label in enumerate(labels):\n",
    "    Y[i][label] = 1\n",
    "    \n",
    "print(Y.shape)\n",
    "print(Y[:10])"
   ]
  },
  {
   "cell_type": "code",
   "execution_count": null,
   "metadata": {
    "collapsed": true,
    "deletable": true,
    "editable": true
   },
   "outputs": [],
   "source": [
    "X_train = X[:training_size]\n",
    "Y_train = Y[:training_size]\n",
    "\n",
    "X_test = X[training_size:]\n",
    "Y_test = Y[training_size:]"
   ]
  },
  {
   "cell_type": "code",
   "execution_count": null,
   "metadata": {
    "collapsed": false,
    "deletable": true,
    "editable": true
   },
   "outputs": [],
   "source": [
    "import tensorflow as tf\n",
    "\n",
    "import tflearn\n",
    "from tflearn.layers.core import input_data, dropout, fully_connected\n",
    "from tflearn.layers.conv import conv_2d, max_pool_2d\n",
    "from tflearn.layers.estimator import regression\n",
    "from tflearn.data_preprocessing import ImagePreprocessing\n",
    "from tflearn.data_augmentation import ImageAugmentation\n",
    "\n",
    "def create_model():\n",
    "    tf.reset_default_graph()\n",
    "\n",
    "    img_prep = ImagePreprocessing()\n",
    "    # Zero Center (With mean computed over the whole dataset)\n",
    "    img_prep.add_featurewise_zero_center()\n",
    "    # STD Normalization (With std computed over the whole dataset)\n",
    "    img_prep.add_featurewise_stdnorm()\n",
    "\n",
    "    # Create extra synthetic training data by flipping, rotating and blurring the\n",
    "    # images on our data set.\n",
    "    img_aug = ImageAugmentation()\n",
    "    img_aug.add_random_flip_leftright()\n",
    "    img_aug.add_random_rotation(max_angle=25.)\n",
    "    img_aug.add_random_blur(sigma_max=3.)\n",
    "\n",
    "    # Define our network architecture:\n",
    "\n",
    "    # Input is a 64x64 x3(red, green and blue)\n",
    "    network = input_data(shape=[None, width, height, 3],\n",
    "                         data_preprocessing=img_prep,\n",
    "                         data_augmentation=img_aug)\n",
    "\n",
    "    # Step 1: Convolution\n",
    "    network = conv_2d(network, 32, 3, activation='relu')\n",
    "\n",
    "    # Step 2: Max pooling\n",
    "    network = max_pool_2d(network, 2)\n",
    "\n",
    "    # Step 3: Convolution again\n",
    "    network = conv_2d(network, 64, 3, activation='relu')\n",
    "\n",
    "    # Step 4: Convolution yet again\n",
    "    network = conv_2d(network, 64, 3, activation='relu')\n",
    "\n",
    "    # Step 5: Max pooling again\n",
    "    network = max_pool_2d(network, 2)\n",
    "\n",
    "    # Step 6: Fully-connected 512 node neural network\n",
    "    network = fully_connected(network, 512, activation='relu')\n",
    "\n",
    "    # Step 7: Dropout - throw away some data randomly during training to prevent over-fitting\n",
    "    network = dropout(network, 0.5)\n",
    "\n",
    "    # Step 8: Fully-connected neural network with two outputs (0=isn't a bird, 1=is a bird) to make the final prediction\n",
    "    network = fully_connected(network, 2, activation='softmax')\n",
    "\n",
    "    # Tell tflearn how we want to train the network\n",
    "    network = regression(network, optimizer='adam',\n",
    "                         loss='categorical_crossentropy',\n",
    "                         learning_rate=0.0005)\n",
    "\n",
    "    # Wrap the network in a model object\n",
    "    model = tflearn.DNN(network, \n",
    "                        tensorboard_verbose=1,\n",
    "                        tensorboard_dir='tmp/')\n",
    "    \n",
    "    return model"
   ]
  },
  {
   "cell_type": "code",
   "execution_count": null,
   "metadata": {
    "collapsed": false,
    "deletable": true,
    "editable": true
   },
   "outputs": [],
   "source": [
    "model = create_model()\n",
    "\n",
    "# Train it! We'll do 100 training passes and monitor it as it goes.\n",
    "model.fit(X_train, Y_train, n_epoch=1, shuffle=True, validation_set=0.1,\n",
    "          show_metric=True, batch_size=50,\n",
    "          snapshot_epoch=True,\n",
    "          run_id='cat-dog-classifier')\n",
    "\n",
    "# Save model when training is complete to a file\n",
    "#model.save(\"testing/test.tfl\")\n",
    "print(\"Network trained and saved!\")"
   ]
  },
  {
   "cell_type": "code",
   "execution_count": null,
   "metadata": {
    "collapsed": false,
    "deletable": true,
    "editable": true
   },
   "outputs": [],
   "source": [
    "model = create_model()\n",
    "\n",
    "model.load(\"pretrained/catdog5k_128x128_100e.tfl\")\n",
    "\n",
    "predictions = model.predict(X_test)\n",
    "\n",
    "print(predictions[0])\n",
    "print(Y_test[0])"
   ]
  },
  {
   "cell_type": "code",
   "execution_count": null,
   "metadata": {
    "collapsed": false,
    "deletable": true,
    "editable": true
   },
   "outputs": [],
   "source": [
    "pred_label = np.argmax(predictions, axis=1)\n",
    "real_label = np.argmax(Y_test, axis=1)\n",
    "\n",
    "accuracy = np.sum(pred_label == real_label)/test_size\n",
    "\n",
    "print(accuracy) #75%"
   ]
  }
 ],
 "metadata": {
  "kernelspec": {
   "display_name": "Python (TEST)",
   "language": "python",
   "name": "testml"
  },
  "language_info": {
   "codemirror_mode": {
    "name": "ipython",
    "version": 3
   },
   "file_extension": ".py",
   "mimetype": "text/x-python",
   "name": "python",
   "nbconvert_exporter": "python",
   "pygments_lexer": "ipython3",
   "version": "3.6.1"
  }
 },
 "nbformat": 4,
 "nbformat_minor": 2
}
